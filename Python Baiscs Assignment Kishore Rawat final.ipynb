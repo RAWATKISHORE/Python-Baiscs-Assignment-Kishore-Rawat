{
 "cells": [
  {
   "cell_type": "markdown",
   "id": "f483579c-fee9-46ac-a6d2-35f840beee8d",
   "metadata": {},
   "source": [
    "# Python Baiscs Assignment Kishore Rawat"
   ]
  },
  {
   "cell_type": "markdown",
   "id": "69b4fd7f-0a07-4f9e-84b2-6e89394a148a",
   "metadata": {},
   "source": [
    "Q.1 Explain the key features of Python that make it a popular choice for programming.\n",
    "\n",
    "Answer :- Python's popularity as a programming language can be attributed to several key features:-\n",
    "\n",
    "A. Readability & Simplicity:\n",
    "1 Clean Syntax: Python syntax is clear & easy to undustand, plain english, whih makes it accessible to beginners & efficient for experienced programes.\n",
    "2 Minimalism: Python uses identation to define code blocks, which enforce good coading practices & makes the code more readable.\n",
    "\n",
    "B. Versatility:\n",
    "1 Multi-Paradigm Language: Python supports multiple programming paradigms, including procedual, obejct-oriented & functional programming. This flexibility allows developers to choose the best approach for their specified project.\n",
    "2 Cross-Plateform Compatibility: It's means code written on one operating system can often run on others without modification.\n",
    "\n",
    "C. Extensive Standard Library & Ecosystem:\n",
    "1 Rich Standard Library: Python comes with a comprehensive standard liabrary that provides tools suited to many tasks, including string processing, file handling, networking, & web services.\n",
    "2 Vast Ecosystem of Packages: Python Pakage Index hosts thousand of third-party packages & libraies, making it easy to add functionality such as data analysis, machine learning, web       development & more.\n",
    "\n",
    "D. Community Support:\n",
    "1 Active Community: Python has a Large active community that contributes to its development & offer extensive support through forms, documentations, tutorials & open source Projects.\n",
    "2 Open Source: It's a free & open-source with a large number of contributors constantely improving the language.\n",
    "\n",
    "E. Integration Capabilities:\n",
    " 1. Interoperability: Python can be easily integrate with other programming languages like C,C++ & Java. It's widely used as a scripting language for application written in other languages.\n",
    " 2. APIs & Libraries: Python can be easily integrate with wide rage of APIs & Libraries, making it a goto choice for web development, scientific computing, artifical intelligence & more.\n",
    "\n",
    "F. Dynamic Typing & Interpreted language:\n",
    " 1. Dynamically: Variable in python do not require an explicit declearation to reserve memory space. This Dynamic typing simplifies code but requires careful manangement to avoid runtime errors.\n",
    " 2. Interpreted Language: Python is a Interpreted language, meaning code is executed line by line, which allows for quick testing & debugging.\n",
    "\n",
    "G. Scalability & Performance:\n",
    " 1. Scalability: Python is scalable and can be used for both small-scale & large-scale applications, from simple script to complex systems like instagram & Spotify.\n",
    " 2. Performance: While python is not the fastest language due to its interpreted nature, it can be optimised using tools like PyPy & critical performance-intensive tasks can be handled by intergrating with faster languages."
   ]
  },
  {
   "cell_type": "markdown",
   "id": "d8c4fc24-6f84-4016-ae4e-cc44390e1b65",
   "metadata": {},
   "source": []
  },
  {
   "cell_type": "markdown",
   "id": "c334483c-087c-4572-961f-9f45c1c7241b",
   "metadata": {},
   "source": [
    "Q.2 Describe the role of predefined keywords in Python and provide examples of how they are used in a program.\n",
    "\n",
    "Answer:- Predefiend keywords in Python, also know as reserve words that have a speacial meaning & part of the core syntax of the language. These keywords are reserved in python. You can not use them as identifiers for variables, functions & any other names in your program.\n",
    "\n",
    "* Role of Predefiend Keywords:\n",
    "Predefiend keywords play a crusial role in defining the structure & logic of python program. Predefiend keywords  are Used To:\n",
    "\n",
    "A. Control the Flow of a program: Keywords like \"if\", \"else\", 'elif\", \"for\", \"while\",\"break\", \"continue\" & \"return\" are used to create loops, conditional statements & other control flow structure.\n",
    "\n",
    "B. Define Functions & classes: Keywords like \"def\", \"class\", \"return\" & \"Yeild\" are used to define funtions, methods & classes.\n",
    "\n",
    "C. Handle exceptions: Keywords like \"try\", \"except\", \"finally\", \"raise\" & \"assert\" are used to exception handeling.\n",
    "\n",
    "D. Work with data Structure: Keywords like \"in\", \"not\", \"and\", \"or\" & \"is\" are used to logical operations & membership check.\n",
    "\n",
    "E. Manage variable scope & memory: Keywords like \"global\", \"nonlocal\", \"del\" & \"lambda\" are used to manage variable scope, memory & anonymous functions.\n",
    "\n",
    "F. Import Module: Keywords like \"import\", \"from\", \"as\" are used for importing & aliasing modules.\n",
    "\n",
    "Examples Of predefiend Keywords in Python are Given below:"
   ]
  },
  {
   "cell_type": "code",
   "execution_count": 3,
   "id": "06c18cc8-c7ff-43df-84d7-ca9b9d098db5",
   "metadata": {},
   "outputs": [
    {
     "name": "stdout",
     "output_type": "stream",
     "text": [
      "This is a Even No.\n"
     ]
    }
   ],
   "source": [
    "# 1. Conditional Statement:\n",
    "number = 16\n",
    "if number %2 == 0:\n",
    "    print(\"This is a Even No.\")\n",
    "else:\n",
    "    print(\"This is a odd No.\")\n",
    "#Here \"if\" & \"else\" are used to control flow of the program based of condition."
   ]
  },
  {
   "cell_type": "code",
   "execution_count": 5,
   "id": "f12b3968-8fcd-4882-96fc-1af1de1f925d",
   "metadata": {},
   "outputs": [
    {
     "name": "stdout",
     "output_type": "stream",
     "text": [
      "0\n",
      "1\n",
      "2\n"
     ]
    }
   ],
   "source": [
    "# 2. Looping:\n",
    "for a in range(3):\n",
    "    print(a)\n",
    "# The keyword \"for\" is used to create a loop That iterates over a sequence."
   ]
  },
  {
   "cell_type": "markdown",
   "id": "7eee7664-941c-4b6d-87e5-329797ab8dbf",
   "metadata": {},
   "source": []
  },
  {
   "cell_type": "markdown",
   "id": "88b6d5ba-e27a-4ea7-bbcc-e4dd8da7848c",
   "metadata": {},
   "source": [
    "Q.3 Compare and contrast mutable and immutable objects in Python with examples.\n",
    "\n",
    "Answer: In Python, obejects are either classified as either mutable or immutable depending on whether their states can be changed after created.\n",
    "\n",
    "Mutable Objects:\n",
    "Mutable objects are whose state can be changed after created. When you are going to modify a mutable object, the object itself is altered & no one object is created.\n",
    "\n",
    "Examples of MUtable Obejects:"
   ]
  },
  {
   "cell_type": "code",
   "execution_count": 16,
   "id": "b33f13f7-0d4a-410e-b2e2-33d27893dd83",
   "metadata": {},
   "outputs": [
    {
     "name": "stdout",
     "output_type": "stream",
     "text": [
      "[1, 2, 3, 4]\n"
     ]
    }
   ],
   "source": [
    "# 1. Lists:\n",
    "my_list = [1, 2, 3]\n",
    "my_list.append(4)\n",
    "print(my_list)\n",
    "#Here is \"my list\" is a list. The \"append\" method modifies the list in place by adding a new element(4)."
   ]
  },
  {
   "cell_type": "code",
   "execution_count": 20,
   "id": "9be7fe1c-9663-4213-a044-4b86c20dbfb0",
   "metadata": {},
   "outputs": [
    {
     "name": "stdout",
     "output_type": "stream",
     "text": [
      "{1, 2, 3, 4}\n"
     ]
    }
   ],
   "source": [
    "# 2. Sets:\n",
    "set = {1, 2, 3}\n",
    "set.add(4)\n",
    "print(set)\n",
    "# \"set\" is a set. The \"add\" method modifies the set by adding a new element(4)"
   ]
  },
  {
   "cell_type": "markdown",
   "id": "1247a317-530b-4f41-9537-a488964efd77",
   "metadata": {},
   "source": [
    "Immutable objets:\n",
    "Immutable ojects are obejects whose state or contents cannot be changed after created. If you try to modify an immutable object, a new object is created insted & the original object remains inchanged.\n",
    "\n",
    "Examples of Immutable Obejects:"
   ]
  },
  {
   "cell_type": "code",
   "execution_count": 27,
   "id": "c5ee93f8-6dd8-475b-a101-c2fdcb18533c",
   "metadata": {},
   "outputs": [
    {
     "name": "stdout",
     "output_type": "stream",
     "text": [
      "(1, 2, 3)\n",
      "(1, 2, 3, 4)\n"
     ]
    }
   ],
   "source": [
    "# 1. Tuples:\n",
    "tuple = (1, 2, 3)\n",
    "new_tuple = tuple + (4,)\n",
    "print(tuple)\n",
    "print(new_tuple)\n",
    "# \"my_tuple is a tuple. when you modify the tuple by adding a element a new tuple \"new_tuple\" is created & original remains unchanged."
   ]
  },
  {
   "cell_type": "code",
   "execution_count": 29,
   "id": "372b44ae-f672-4f09-ae97-f5cbd0de7e8c",
   "metadata": {},
   "outputs": [
    {
     "name": "stdout",
     "output_type": "stream",
     "text": [
      "8\n",
      "12\n"
     ]
    }
   ],
   "source": [
    "# 2. Integers:\n",
    "a = 8\n",
    "b = a + 4\n",
    "print(a)\n",
    "print(b)"
   ]
  },
  {
   "cell_type": "markdown",
   "id": "42c497cf-6120-4379-be01-87c525dcb377",
   "metadata": {},
   "source": [
    "Comparison of Mutable & Immutable Objects are Given below:\n",
    "    ## Aspect      /              ## Mutable Objects                                              /            ## Immutable Objects\n",
    "1. Stage Change    /          Can be modify after creation                                        /   Cannot be modified after creation.\n",
    "2. Examples        /          Lists, Dictionaries, sets                                           /    Tuples, Strings, Integers\n",
    "3. Memory Behavior /         Modification happen in place.                                        /   Modifications result in a new object being created.\n",
    "4. Usage Scenarios /    Usefull when you need to change the contents of a object frequentely      / Useful for ensuring data integrity & avoiding accidental modifications.\n",
    "5. Performance     / Modifying mutable object is generally faster beacause no new object created. / Modifying immutable objects can be slower because it requires creating a new object."
   ]
  },
  {
   "cell_type": "markdown",
   "id": "ecc1aadb-e28e-4927-9c45-e56189327a6e",
   "metadata": {},
   "source": []
  },
  {
   "cell_type": "markdown",
   "id": "e4253cc1-cfc0-4dae-94da-6110f4030583",
   "metadata": {},
   "source": [
    "Q.4 Discuss the different types of operators in Python and provide examples of how they ore used.\n",
    "\n",
    "Answer: In the Python operators are special symbols or keywords used to perform operations on variable or value. Python Supports various types of operators each serving a speacial purpose.\n",
    "\n",
    "Overview of the Diffrents types of operators in Python & Examples How They are used Given below:-\n",
    "\n",
    "1. Arithmetic Operators: Arithmetic operators are used to perform basic mathmatical operations like addition, substraction multiplication etc."
   ]
  },
  {
   "cell_type": "code",
   "execution_count": null,
   "id": "f375d791-045e-40e6-8721-3e508a4585c4",
   "metadata": {},
   "outputs": [
    {
     "data": {
      "text/plain": [
       "10"
      ]
     },
     "execution_count": 38,
     "metadata": {},
     "output_type": "execute_result"
    }
   ],
   "source": [
    "# Additon:\n",
    "x = 6\n",
    "y = 4\n",
    "x+y"
   ]
  },
  {
   "cell_type": "code",
   "execution_count": 39,
   "id": "3ea25139-4ef2-4b5c-949e-52a78ba539e2",
   "metadata": {},
   "outputs": [
    {
     "data": {
      "text/plain": [
       "1296"
      ]
     },
     "execution_count": 39,
     "metadata": {},
     "output_type": "execute_result"
    }
   ],
   "source": [
    "# Exponentiation:\n",
    "x ** y"
   ]
  },
  {
   "cell_type": "code",
   "execution_count": 40,
   "id": "12716bdb-8cec-4ca2-a87c-f042f24f1ccb",
   "metadata": {},
   "outputs": [
    {
     "data": {
      "text/plain": [
       "2"
      ]
     },
     "execution_count": 40,
     "metadata": {},
     "output_type": "execute_result"
    }
   ],
   "source": [
    "# Modulus:\n",
    "x % y"
   ]
  },
  {
   "cell_type": "markdown",
   "id": "ce8e652a-0055-4d59-bcbb-dab8d05da5fe",
   "metadata": {},
   "source": [
    "2. Comparision Operators: Comparision operators are used to compare two values or boolean value."
   ]
  },
  {
   "cell_type": "code",
   "execution_count": 41,
   "id": "5c8ccd20-0877-4d80-a849-6f77ef0d66c9",
   "metadata": {},
   "outputs": [
    {
     "data": {
      "text/plain": [
       "False"
      ]
     },
     "execution_count": 41,
     "metadata": {},
     "output_type": "execute_result"
    }
   ],
   "source": [
    "#Equal to\n",
    "x = 8\n",
    "y = 4\n",
    "x == y"
   ]
  },
  {
   "cell_type": "code",
   "execution_count": 42,
   "id": "74331d6e-fef8-46df-9771-9c85b6ec3410",
   "metadata": {},
   "outputs": [
    {
     "data": {
      "text/plain": [
       "True"
      ]
     },
     "execution_count": 42,
     "metadata": {},
     "output_type": "execute_result"
    }
   ],
   "source": [
    "# less than equal to\n",
    "y <= a"
   ]
  },
  {
   "cell_type": "code",
   "execution_count": 43,
   "id": "153f56ff-64f3-4134-bd68-6943fdffb24d",
   "metadata": {},
   "outputs": [
    {
     "data": {
      "text/plain": [
       "True"
      ]
     },
     "execution_count": 43,
     "metadata": {},
     "output_type": "execute_result"
    }
   ],
   "source": [
    "# Greater Than\n",
    "x > y"
   ]
  },
  {
   "cell_type": "markdown",
   "id": "06179fe9-ba21-4968-8a55-8e50787d0d3f",
   "metadata": {},
   "source": [
    "3. Logical operators: Logical operators are used to combine conditional operators."
   ]
  },
  {
   "cell_type": "code",
   "execution_count": 44,
   "id": "e0e419e7-b5a3-4ded-981c-24b31e7e9248",
   "metadata": {},
   "outputs": [
    {
     "data": {
      "text/plain": [
       "False"
      ]
     },
     "execution_count": 44,
     "metadata": {},
     "output_type": "execute_result"
    }
   ],
   "source": [
    "# and:\n",
    "x = True\n",
    "y = False\n",
    "x and y"
   ]
  },
  {
   "cell_type": "code",
   "execution_count": 45,
   "id": "5cb7db97-90bb-4624-94dd-a25a3bb4db72",
   "metadata": {},
   "outputs": [
    {
     "data": {
      "text/plain": [
       "True"
      ]
     },
     "execution_count": 45,
     "metadata": {},
     "output_type": "execute_result"
    }
   ],
   "source": [
    "# or:\n",
    "x or y"
   ]
  },
  {
   "cell_type": "code",
   "execution_count": 48,
   "id": "3f7d2213-8cf7-4e3b-9309-c1b42b9328f7",
   "metadata": {},
   "outputs": [
    {
     "data": {
      "text/plain": [
       "True"
      ]
     },
     "execution_count": 48,
     "metadata": {},
     "output_type": "execute_result"
    }
   ],
   "source": [
    "# not:\n",
    "not y"
   ]
  },
  {
   "cell_type": "markdown",
   "id": "7c1a1782-55ba-48b7-b0ce-05f88ecc4d58",
   "metadata": {},
   "source": [
    "4. Assignment Operators: Assignment operators are used to assign value to variables."
   ]
  },
  {
   "cell_type": "code",
   "execution_count": 50,
   "id": "d517dac8-0874-469c-8d96-4a3257b29ff1",
   "metadata": {},
   "outputs": [
    {
     "data": {
      "text/plain": [
       "5"
      ]
     },
     "execution_count": 50,
     "metadata": {},
     "output_type": "execute_result"
    }
   ],
   "source": [
    "# Assignment\n",
    "x = 5\n",
    "x"
   ]
  },
  {
   "cell_type": "code",
   "execution_count": 53,
   "id": "2388c8b6-2c7d-4e99-beab-853b33f7cade",
   "metadata": {},
   "outputs": [
    {
     "data": {
      "text/plain": [
       "10"
      ]
     },
     "execution_count": 53,
     "metadata": {},
     "output_type": "execute_result"
    }
   ],
   "source": [
    "# Multiply & Assign:\n",
    "x = 5\n",
    "x *= 2\n",
    "x"
   ]
  },
  {
   "cell_type": "code",
   "execution_count": 57,
   "id": "5f4f9b10-8933-4c0a-bfd5-0ccb4be8a0ac",
   "metadata": {},
   "outputs": [
    {
     "data": {
      "text/plain": [
       "2"
      ]
     },
     "execution_count": 57,
     "metadata": {},
     "output_type": "execute_result"
    }
   ],
   "source": [
    "# Modulus and assign:\n",
    "x = 8\n",
    "x %= 3\n",
    "x"
   ]
  },
  {
   "cell_type": "markdown",
   "id": "1f022101-0298-4bb0-85a5-ffd9e705893b",
   "metadata": {},
   "source": [
    "5. Bitwise Operators: Bitwise operators perform operations on the binary representation of integers."
   ]
  },
  {
   "cell_type": "code",
   "execution_count": 64,
   "id": "91f63d52-04b4-4d46-a805-1ba0c7907cec",
   "metadata": {},
   "outputs": [
    {
     "data": {
      "text/plain": [
       "4"
      ]
     },
     "execution_count": 64,
     "metadata": {},
     "output_type": "execute_result"
    }
   ],
   "source": [
    "# And \n",
    "x = 4\n",
    "y = 6\n",
    "x & y"
   ]
  },
  {
   "cell_type": "code",
   "execution_count": 69,
   "id": "f306c911-a2fa-475c-b52b-36dae1d62b51",
   "metadata": {},
   "outputs": [
    {
     "data": {
      "text/plain": [
       "12"
      ]
     },
     "execution_count": 69,
     "metadata": {},
     "output_type": "execute_result"
    }
   ],
   "source": [
    "# Left shift:\n",
    "3 << 2"
   ]
  },
  {
   "cell_type": "code",
   "execution_count": 70,
   "id": "e7b44a4c-a99d-4ba8-9659-396cb2604f8f",
   "metadata": {},
   "outputs": [
    {
     "data": {
      "text/plain": [
       "1"
      ]
     },
     "execution_count": 70,
     "metadata": {},
     "output_type": "execute_result"
    }
   ],
   "source": [
    "# XOR:\n",
    "3 ^ 2"
   ]
  },
  {
   "cell_type": "markdown",
   "id": "31cd680c-8143-4a66-80cf-b4595ccf05d6",
   "metadata": {},
   "source": [
    "6. Membership Operator: Membership Operators are used to test whether a value or variable is found in a sequence.(string, list,tuple)."
   ]
  },
  {
   "cell_type": "code",
   "execution_count": 71,
   "id": "db1f049c-e03d-4044-9788-d3fc1ebc5e91",
   "metadata": {},
   "outputs": [
    {
     "data": {
      "text/plain": [
       "True"
      ]
     },
     "execution_count": 71,
     "metadata": {},
     "output_type": "execute_result"
    }
   ],
   "source": [
    "# List:\n",
    "a = (1, 2, 3, 4, 5)\n",
    "3 in a"
   ]
  },
  {
   "cell_type": "code",
   "execution_count": 72,
   "id": "b5804148-8448-434f-a861-93c729d13769",
   "metadata": {},
   "outputs": [
    {
     "data": {
      "text/plain": [
       "True"
      ]
     },
     "execution_count": 72,
     "metadata": {},
     "output_type": "execute_result"
    }
   ],
   "source": [
    "# not in :\n",
    "8 not in a"
   ]
  },
  {
   "cell_type": "markdown",
   "id": "79d8edb4-c35c-406b-bc3f-1db410105891",
   "metadata": {},
   "source": [
    "7. Identity Operators: Identity operators are used to compare the memory locations of two objects."
   ]
  },
  {
   "cell_type": "code",
   "execution_count": 76,
   "id": "579085d9-2e00-4669-aee8-edb9631da8f3",
   "metadata": {},
   "outputs": [
    {
     "data": {
      "text/plain": [
       "True"
      ]
     },
     "execution_count": 76,
     "metadata": {},
     "output_type": "execute_result"
    }
   ],
   "source": [
    "# is\n",
    "a = [1, 2, 3]\n",
    "b = a\n",
    "a is b"
   ]
  },
  {
   "cell_type": "code",
   "execution_count": 77,
   "id": "7d0f4c9f-522d-4d14-8960-d35e9eee42d8",
   "metadata": {},
   "outputs": [
    {
     "data": {
      "text/plain": [
       "True"
      ]
     },
     "execution_count": 77,
     "metadata": {},
     "output_type": "execute_result"
    }
   ],
   "source": [
    "# is not:\n",
    "z = [2, 3, 4]\n",
    "x is not z"
   ]
  },
  {
   "cell_type": "markdown",
   "id": "362e6c12-e27b-45c9-a156-bd801068b1d2",
   "metadata": {},
   "source": []
  },
  {
   "cell_type": "markdown",
   "id": "6abc275f-80dd-47a0-b669-a4527e2972af",
   "metadata": {},
   "source": [
    "Q.5 Explain the concept of type costing in Python with examples.\n",
    "\n",
    "Answer: Type casting in python refers to the process of converting one dat types to another. This is often necessary when you want to perform operations that requries operands of the same type or when you need to change the type of data to fit a particular context. Python provides two types of Casting Which is give n below:-\n",
    "\n",
    "1. Implicit Type Casting: Implicit type casting occurs automatically when python convert one data type to another without the programmer's intervention. This is happens when you perform operations in a mixed data types & python automatically convert lower data type to higer data type to avoid data loss."
   ]
  },
  {
   "cell_type": "code",
   "execution_count": 78,
   "id": "d1c36f00-2630-45c3-b18d-bb71cc80bcb7",
   "metadata": {},
   "outputs": [
    {
     "data": {
      "text/plain": [
       "10.0"
      ]
     },
     "execution_count": 78,
     "metadata": {},
     "output_type": "execute_result"
    }
   ],
   "source": [
    "# Examples of implicit Type Casting:\n",
    "x = 7\n",
    "y = 3.0\n",
    "x+y"
   ]
  },
  {
   "cell_type": "code",
   "execution_count": 79,
   "id": "05b8c60f-c6ab-4da5-9559-d4be3fc5e5cb",
   "metadata": {},
   "outputs": [
    {
     "data": {
      "text/plain": [
       "float"
      ]
     },
     "execution_count": 79,
     "metadata": {},
     "output_type": "execute_result"
    }
   ],
   "source": [
    "type(x+y)"
   ]
  },
  {
   "cell_type": "markdown",
   "id": "8fb22bbb-0b07-4366-a10c-442f183a51cd",
   "metadata": {},
   "source": [
    "2. Explicit Type Casting: Explicit type casting is such type of casting where you manually convert one data type to another using Python Built in functions. This is done when you need to ensure that a variable is a specific type.\n",
    "\n",
    "Common Funtions For Explicit Type Casting:\n",
    "A. \"int()\"      converts a value to an integer.\n",
    "B. \"float()\"    converts a value to a float.\n",
    "C. \"str()\"      converts a value to a string.\n",
    "D. \"list()\"     converts a value to a list.\n",
    "E. \"tuple()\"    converts a value to a tuple.\n",
    "F. \"set()\"      converts a value to a set.\n",
    "G. \"dict()\"     converts a squence of key-value pairs into a dictinary.\n",
    "\n",
    "Examples of Explicit Tpe casting:"
   ]
  },
  {
   "cell_type": "code",
   "execution_count": 80,
   "id": "57b4f93e-fe70-46c6-bc87-3a8370a3b2af",
   "metadata": {},
   "outputs": [
    {
     "name": "stdout",
     "output_type": "stream",
     "text": [
      "4\n",
      "<class 'int'>\n"
     ]
    }
   ],
   "source": [
    "# Convert flot to integer\n",
    "x = 4.3\n",
    "y = int(x)\n",
    "print(y)\n",
    "print(type(y))"
   ]
  },
  {
   "cell_type": "code",
   "execution_count": 85,
   "id": "bda7b47c-a1e3-428c-9fe7-95c5e3bcb527",
   "metadata": {},
   "outputs": [
    {
     "name": "stdout",
     "output_type": "stream",
     "text": [
      "4.567\n"
     ]
    },
    {
     "data": {
      "text/plain": [
       "float"
      ]
     },
     "execution_count": 85,
     "metadata": {},
     "output_type": "execute_result"
    }
   ],
   "source": [
    "# Convert String to a float\n",
    "d = \"4.567\"\n",
    "e = float(d)\n",
    "print(e)\n",
    "type(e)"
   ]
  },
  {
   "cell_type": "code",
   "execution_count": 99,
   "id": "e5f3094a-47ae-4b24-8d6d-d413bda912be",
   "metadata": {},
   "outputs": [
    {
     "name": "stdout",
     "output_type": "stream",
     "text": [
      "21\n",
      "<class 'str'>\n"
     ]
    }
   ],
   "source": [
    "# Converting a integer to string:\n",
    "a = 21\n",
    "b = str(a)\n",
    "print(b)\n",
    "print(type(b))"
   ]
  },
  {
   "cell_type": "markdown",
   "id": "b457c950-6d45-4cc2-9b74-e3086f1a8212",
   "metadata": {},
   "source": []
  },
  {
   "cell_type": "markdown",
   "id": "f062f1a6-241f-42aa-83f2-f0571d10cde5",
   "metadata": {},
   "source": [
    "Q.6 How do conditional statements work in Python? Illustrate with examples.\n",
    "\n",
    "Answer: Conditional statements in python allows you to execute certain blocks of code based on a specified condition is true or false, These statements are essential for controlling the flow of the program & making decision.\n",
    "\n",
    "Types of Conditional Statements in Python:\n",
    "A. \"if\" Statement\n",
    "B. \"if-else\" statement\n",
    "C. \"if-elif-else\" statement\n",
    "D. Nested \"if\" Statement\n",
    "\n",
    "A. \"If\" statement: The if statement executes block of code if the conditon is True. If the condition is False the code block is skipped."
   ]
  },
  {
   "cell_type": "code",
   "execution_count": 100,
   "id": "eea20585-6839-435c-aa33-bdeaa0632c1a",
   "metadata": {},
   "outputs": [
    {
     "name": "stdout",
     "output_type": "stream",
     "text": [
      "a is greater then 6\n"
     ]
    }
   ],
   "source": [
    "# Example:\n",
    "a = 9\n",
    "if a > 6:\n",
    "    print(\"a is greater then 6\")"
   ]
  },
  {
   "cell_type": "markdown",
   "id": "e694084a-2df4-49fa-9feb-67a22d5d4604",
   "metadata": {},
   "source": [
    "B. \"if-else\" Statement: The \"if-else\" statement allows you to execte one block of code if the condition is true & another block of code if the condition is \"false\""
   ]
  },
  {
   "cell_type": "code",
   "execution_count": 108,
   "id": "5dc89a7d-8127-41ec-afdf-a8e6bbcc6832",
   "metadata": {},
   "outputs": [
    {
     "name": "stdout",
     "output_type": "stream",
     "text": [
      "The no. is Odd No.\n"
     ]
    }
   ],
   "source": [
    "# Example:\n",
    "a = 1\n",
    "if a % 2 == 0:\n",
    "    print(\"The no. is Even No.\")\n",
    "else:\n",
    "    print(\"The no. is Odd No.\")"
   ]
  },
  {
   "cell_type": "markdown",
   "id": "624ee925-ef51-4f5b-9586-7d7a0dd6b749",
   "metadata": {},
   "source": [
    "C. \"If-elif-else\" Statement: This statement allows you to check multiple condition in sequence. The first condition that evaluates to \"true\" has its corresponding code will be executed. If none of the condition are \"true\" the \"else\" block is executed."
   ]
  },
  {
   "cell_type": "code",
   "execution_count": 124,
   "id": "1f2badf9-f508-4912-a9ca-5fa5035f883e",
   "metadata": {},
   "outputs": [
    {
     "name": "stdin",
     "output_type": "stream",
     "text": [
      "Enter a No. 2\n"
     ]
    },
    {
     "name": "stdout",
     "output_type": "stream",
     "text": [
      "This no. is a Positive no.\n"
     ]
    }
   ],
   "source": [
    "# Example:\n",
    "x = int(input(\"Enter a No.\"))\n",
    "if a > 100:\n",
    "    print(\"This no is Greater then 100\")\n",
    "elif 0<=a<100:\n",
    "    print(\"This no. is a Positive no.\")\n",
    "else:\n",
    "    print(\"This no. is a Negative no.\")"
   ]
  },
  {
   "cell_type": "markdown",
   "id": "65da51f3-9cbf-4aee-9699-956589630b69",
   "metadata": {},
   "source": [
    "D. Nested \"if\" Statement: Nested if statement are if statement places inside other if statement. This allows you to check for future conditions within an already establised condition."
   ]
  },
  {
   "cell_type": "code",
   "execution_count": 132,
   "id": "6370e559-c3a3-46c7-9a67-7a624f96a3bb",
   "metadata": {},
   "outputs": [
    {
     "name": "stdin",
     "output_type": "stream",
     "text": [
      "Enter your age 18\n"
     ]
    },
    {
     "name": "stdout",
     "output_type": "stream",
     "text": [
      "You are a vip customer\n"
     ]
    }
   ],
   "source": [
    "#Example:\n",
    "vip_customer = True\n",
    "Age = int(input(\"Enter your age\"))\n",
    "if vip_customer:\n",
    "    if Age>=18:\n",
    "        if 65<Age:\n",
    "            print(\"You are a vip customer & Elegiable for senior citizen Discount\")\n",
    "        else:\n",
    "            print(\"You are a vip customer\")\n",
    "    else:\n",
    "        print(\"You are not allowed here\")\n",
    "else:\n",
    "    print(\"Welcome, Would you like to join vip membership\")"
   ]
  },
  {
   "cell_type": "markdown",
   "id": "9a3c7f6c-4236-4cfd-ada3-c333f4fbd5d8",
   "metadata": {},
   "source": []
  },
  {
   "cell_type": "markdown",
   "id": "e1807d45-319d-43b7-9c60-aef9cfc590e7",
   "metadata": {},
   "source": [
    "Q.7 Describe the different types of loops in Python and their use cases with examples.\n",
    "\n",
    "Answer: In Python, loops are used to repeatedly execute a block of code as a condition is met or until a specified condition is no longer true. \n",
    "\n",
    "Python provides two main types of loops:\n",
    "1. \"for\" loop \n",
    "2. \"while\" loop\n",
    "\n",
    "Each of loops serves different purpose & can be used depending on the situation.\n",
    "1. \"for\" loop: The for loop is used to iterate over a sequence (such as a list, tuple, dictionary, set & string) & execute a block of code for each element in the sequence. It's ideal when you know the number of iteration in advance."
   ]
  },
  {
   "cell_type": "code",
   "execution_count": 151,
   "id": "fdbb1bdd-a82b-4931-8981-ac9be995141e",
   "metadata": {},
   "outputs": [
    {
     "name": "stdout",
     "output_type": "stream",
     "text": [
      "k i s h o r e r a w a t "
     ]
    }
   ],
   "source": [
    "# Example 1: Iterating over a string.\n",
    "a = \"kishorerawat\"\n",
    "for i in a:\n",
    "    print(i, end=\" \")"
   ]
  },
  {
   "cell_type": "code",
   "execution_count": 152,
   "id": "27549c27-e55d-4803-ad6f-93f28f4f84d7",
   "metadata": {},
   "outputs": [
    {
     "name": "stdout",
     "output_type": "stream",
     "text": [
      "apple\n",
      "banana\n",
      "cherry\n"
     ]
    }
   ],
   "source": [
    "#Example 2: Iterating Over a List\n",
    "fruits = [\"apple\", \"banana\", \"cherry\"]\n",
    "\n",
    "for fruit in fruits:\n",
    "    print(fruit)"
   ]
  },
  {
   "cell_type": "code",
   "execution_count": 156,
   "id": "b506e818-7ac9-49e3-ba18-94be80dd8e9f",
   "metadata": {},
   "outputs": [
    {
     "name": "stdout",
     "output_type": "stream",
     "text": [
      "012345678"
     ]
    }
   ],
   "source": [
    "# Example 3: Using range() in a for Loop\n",
    "for a in range(9):\n",
    "    print(a, end=\"\")"
   ]
  },
  {
   "cell_type": "markdown",
   "id": "b3d1504e-528a-46d7-b4ee-3dbe5fc240ea",
   "metadata": {},
   "source": [
    "2. \"while\" loop: The \"while\" loop continue to execute a block of code as long a specified condition is \"True\". It's particularly useful when you don't know in advance how many times the loop will need to iterate."
   ]
  },
  {
   "cell_type": "code",
   "execution_count": 2,
   "id": "046721f4-8daf-4144-9b5e-a59f2c20154f",
   "metadata": {},
   "outputs": [
    {
     "name": "stdout",
     "output_type": "stream",
     "text": [
      "3 4 5 6 7 8 "
     ]
    }
   ],
   "source": [
    "# Example 1: Basic while Loop\n",
    "a = 9\n",
    "b = 3\n",
    "while b < a:\n",
    "    print(b, end= \" \")\n",
    "    b+= 1"
   ]
  },
  {
   "cell_type": "code",
   "execution_count": 3,
   "id": "d5c7e613-6666-4222-824a-dcb4909602e2",
   "metadata": {},
   "outputs": [
    {
     "name": "stdout",
     "output_type": "stream",
     "text": [
      "1\n",
      "2\n",
      "3\n"
     ]
    }
   ],
   "source": [
    "# Example 2: Infinite while Loop (with break to Exit)\n",
    "i = 1\n",
    "\n",
    "while True:\n",
    "    print(i)\n",
    "    if i == 3:\n",
    "        break\n",
    "    i += 1"
   ]
  },
  {
   "cell_type": "markdown",
   "id": "a303178a-ded8-4ac5-a704-b79efa665b8d",
   "metadata": {},
   "source": [
    "Use cases of Loops in Python:\n",
    "A. \"for\" Loop use cases:\n",
    "* Iterating through elements of a sequence: When you need to process each element in a list, tuple, set, dictionary or string.\n",
    "\n",
    "* Iterating with a known range: When you know the number of iterations beforehand, such as processing a fixed number of elements or generating numbers within a specific range.\n",
    "\n",
    "* Enumerating: When you need both the index and the value of elements in a list."
   ]
  },
  {
   "cell_type": "code",
   "execution_count": 4,
   "id": "b72f2570-a1a4-473d-9402-0d37f8808bb9",
   "metadata": {},
   "outputs": [
    {
     "name": "stdout",
     "output_type": "stream",
     "text": [
      "0 apple\n",
      "1 banana\n",
      "2 cherry\n"
     ]
    }
   ],
   "source": [
    "fruits = [\"apple\", \"banana\", \"cherry\"]\n",
    "for index, fruit in enumerate(fruits):\n",
    "    print(index, fruit)"
   ]
  },
  {
   "cell_type": "markdown",
   "id": "dc0d24f7-24a6-4831-b402-7dab46e3abcf",
   "metadata": {},
   "source": [
    "B. \"while\" Loop Use Cases:\n",
    "* When the number of iterations is unknown: Useful when the loop should continue until a certain condition is met, which may not happen at a known time.\n",
    "\n",
    "* Waiting for an external condition: Such as waiting for user input, checking for a signal, or processing data until it's all complete.\n",
    "\n",
    "* Implementing a retry mechanism: Retrying an operation (like a network request) until it succeeds."
   ]
  },
  {
   "cell_type": "markdown",
   "id": "ecef565e-4819-4241-8feb-e5f1fbbe19e9",
   "metadata": {},
   "source": [
    "C. Nested Loops\n",
    "You can nest loops, meaning you can place a loop inside another loop. This is useful for working with multi-dimensional data structures like lists of lists."
   ]
  },
  {
   "cell_type": "code",
   "execution_count": 5,
   "id": "dab505d2-98e4-415f-b904-3f9245a6b50d",
   "metadata": {},
   "outputs": [
    {
     "name": "stdout",
     "output_type": "stream",
     "text": [
      "1 2 3 \n",
      "4 5 6 \n",
      "7 8 9 \n"
     ]
    }
   ],
   "source": [
    "# Example: Nested for Loop\n",
    "matrix = [\n",
    "    [1, 2, 3],\n",
    "    [4, 5, 6],\n",
    "    [7, 8, 9]\n",
    "]\n",
    "\n",
    "for row in matrix:\n",
    "    for item in row:\n",
    "        print(item, end=\" \")\n",
    "    print()"
   ]
  }
 ],
 "metadata": {
  "kernelspec": {
   "display_name": "Python 3 (ipykernel)",
   "language": "python",
   "name": "python3"
  },
  "language_info": {
   "codemirror_mode": {
    "name": "ipython",
    "version": 3
   },
   "file_extension": ".py",
   "mimetype": "text/x-python",
   "name": "python",
   "nbconvert_exporter": "python",
   "pygments_lexer": "ipython3",
   "version": "3.10.8"
  }
 },
 "nbformat": 4,
 "nbformat_minor": 5
}
